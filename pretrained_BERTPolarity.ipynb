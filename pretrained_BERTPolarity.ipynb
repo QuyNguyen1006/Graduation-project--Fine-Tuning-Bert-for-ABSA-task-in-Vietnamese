{
  "nbformat": 4,
  "nbformat_minor": 0,
  "metadata": {
    "colab": {
      "name": "pretrained_BERTPolarity.ipynb",
      "provenance": [],
      "collapsed_sections": []
    },
    "kernelspec": {
      "name": "python3",
      "display_name": "Python 3"
    },
    "language_info": {
      "name": "python"
    },
    "gpuClass": "standard",
    "accelerator": "GPU"
  },
  "cells": [
    {
      "cell_type": "code",
      "execution_count": null,
      "metadata": {
        "colab": {
          "base_uri": "https://localhost:8080/"
        },
        "id": "cbpMP60HhFVX",
        "outputId": "9ab358fb-a3b3-42df-b202-1e9c01de51f9"
      },
      "outputs": [
        {
          "output_type": "stream",
          "name": "stdout",
          "text": [
            "Drive already mounted at /content/drive; to attempt to forcibly remount, call drive.mount(\"/content/drive\", force_remount=True).\n"
          ]
        }
      ],
      "source": [
        "from google.colab import drive\n",
        "drive.mount(\"/content/drive\")"
      ]
    },
    {
      "cell_type": "code",
      "source": [
        "!nvidia-smi"
      ],
      "metadata": {
        "colab": {
          "base_uri": "https://localhost:8080/"
        },
        "id": "Y4G7o9CxhKkF",
        "outputId": "78a58e28-a795-4609-e619-67a381a3aa85"
      },
      "execution_count": null,
      "outputs": [
        {
          "output_type": "stream",
          "name": "stdout",
          "text": [
            "Wed Jul 27 10:07:01 2022       \n",
            "+-----------------------------------------------------------------------------+\n",
            "| NVIDIA-SMI 460.32.03    Driver Version: 460.32.03    CUDA Version: 11.2     |\n",
            "|-------------------------------+----------------------+----------------------+\n",
            "| GPU  Name        Persistence-M| Bus-Id        Disp.A | Volatile Uncorr. ECC |\n",
            "| Fan  Temp  Perf  Pwr:Usage/Cap|         Memory-Usage | GPU-Util  Compute M. |\n",
            "|                               |                      |               MIG M. |\n",
            "|===============================+======================+======================|\n",
            "|   0  Tesla T4            Off  | 00000000:00:04.0 Off |                    0 |\n",
            "| N/A   55C    P8    12W /  70W |      0MiB / 15109MiB |      0%      Default |\n",
            "|                               |                      |                  N/A |\n",
            "+-------------------------------+----------------------+----------------------+\n",
            "                                                                               \n",
            "+-----------------------------------------------------------------------------+\n",
            "| Processes:                                                                  |\n",
            "|  GPU   GI   CI        PID   Type   Process name                  GPU Memory |\n",
            "|        ID   ID                                                   Usage      |\n",
            "|=============================================================================|\n",
            "|  No running processes found                                                 |\n",
            "+-----------------------------------------------------------------------------+\n"
          ]
        }
      ]
    },
    {
      "cell_type": "code",
      "source": [
        "!pip install transformers"
      ],
      "metadata": {
        "colab": {
          "base_uri": "https://localhost:8080/"
        },
        "id": "QOKdrSZohL67",
        "outputId": "97b6c798-fd40-4732-a8e1-671f6ee1ecfd"
      },
      "execution_count": null,
      "outputs": [
        {
          "output_type": "stream",
          "name": "stdout",
          "text": [
            "Looking in indexes: https://pypi.org/simple, https://us-python.pkg.dev/colab-wheels/public/simple/\n",
            "Requirement already satisfied: transformers in /usr/local/lib/python3.7/dist-packages (4.20.1)\n",
            "Requirement already satisfied: tokenizers!=0.11.3,<0.13,>=0.11.1 in /usr/local/lib/python3.7/dist-packages (from transformers) (0.12.1)\n",
            "Requirement already satisfied: importlib-metadata in /usr/local/lib/python3.7/dist-packages (from transformers) (4.12.0)\n",
            "Requirement already satisfied: filelock in /usr/local/lib/python3.7/dist-packages (from transformers) (3.7.1)\n",
            "Requirement already satisfied: packaging>=20.0 in /usr/local/lib/python3.7/dist-packages (from transformers) (21.3)\n",
            "Requirement already satisfied: tqdm>=4.27 in /usr/local/lib/python3.7/dist-packages (from transformers) (4.64.0)\n",
            "Requirement already satisfied: numpy>=1.17 in /usr/local/lib/python3.7/dist-packages (from transformers) (1.21.6)\n",
            "Requirement already satisfied: regex!=2019.12.17 in /usr/local/lib/python3.7/dist-packages (from transformers) (2022.6.2)\n",
            "Requirement already satisfied: pyyaml>=5.1 in /usr/local/lib/python3.7/dist-packages (from transformers) (6.0)\n",
            "Requirement already satisfied: huggingface-hub<1.0,>=0.1.0 in /usr/local/lib/python3.7/dist-packages (from transformers) (0.8.1)\n",
            "Requirement already satisfied: requests in /usr/local/lib/python3.7/dist-packages (from transformers) (2.23.0)\n",
            "Requirement already satisfied: typing-extensions>=3.7.4.3 in /usr/local/lib/python3.7/dist-packages (from huggingface-hub<1.0,>=0.1.0->transformers) (4.1.1)\n",
            "Requirement already satisfied: pyparsing!=3.0.5,>=2.0.2 in /usr/local/lib/python3.7/dist-packages (from packaging>=20.0->transformers) (3.0.9)\n",
            "Requirement already satisfied: zipp>=0.5 in /usr/local/lib/python3.7/dist-packages (from importlib-metadata->transformers) (3.8.1)\n",
            "Requirement already satisfied: certifi>=2017.4.17 in /usr/local/lib/python3.7/dist-packages (from requests->transformers) (2022.6.15)\n",
            "Requirement already satisfied: chardet<4,>=3.0.2 in /usr/local/lib/python3.7/dist-packages (from requests->transformers) (3.0.4)\n",
            "Requirement already satisfied: urllib3!=1.25.0,!=1.25.1,<1.26,>=1.21.1 in /usr/local/lib/python3.7/dist-packages (from requests->transformers) (1.24.3)\n",
            "Requirement already satisfied: idna<3,>=2.5 in /usr/local/lib/python3.7/dist-packages (from requests->transformers) (2.10)\n"
          ]
        }
      ]
    },
    {
      "cell_type": "code",
      "source": [
        "import numpy as np\n",
        "import pandas as pd\n",
        "import torch\n",
        "import torch.nn as nn\n",
        "import shutil\n",
        "import sys"
      ],
      "metadata": {
        "id": "d0QC2eXHhO1y"
      },
      "execution_count": null,
      "outputs": []
    },
    {
      "cell_type": "code",
      "source": [
        "#Hos pair BERT polarity\n",
        "# train = '/content/drive/MyDrive/Đồ án tốt nghiệp/Data/PhaseB/Res/Res_train_pair_phaseB.csv'\n",
        "# dev = '/content/drive/MyDrive/Đồ án tốt nghiệp/Data/PhaseB/Res/Res_dev_pair_phaseB.csv'\n",
        "# test = '/content/drive/MyDrive/Đồ án tốt nghiệp/Data/PhaseB/Res/Res_test_pair_phaseB.csv'"
      ],
      "metadata": {
        "id": "qfvAIuwnhPay"
      },
      "execution_count": null,
      "outputs": []
    },
    {
      "cell_type": "code",
      "source": [
        "#Hos pair Bert polarrity\n",
        "train = '/content/drive/MyDrive/Đồ án tốt nghiệp/Data/PhaseB/Hos/Hos_train_pair_PhaseB.csv'\n",
        "dev = '/content/drive/MyDrive/Đồ án tốt nghiệp/Data/PhaseB/Hos/Hos_dev_pair_PhaseB.csv'\n",
        "test = '/content/drive/MyDrive/Đồ án tốt nghiệp/Data/PhaseB/Hos/Hos_test_pair_PhaseB.csv'"
      ],
      "metadata": {
        "id": "oPjEjpTrGbCx"
      },
      "execution_count": null,
      "outputs": []
    },
    {
      "cell_type": "code",
      "source": [
        "train = pd.read_csv(train)\n",
        "dev = pd.read_csv(dev)\n",
        "test = pd.read_csv(test)"
      ],
      "metadata": {
        "id": "X2wZaZe6hUaL"
      },
      "execution_count": null,
      "outputs": []
    },
    {
      "cell_type": "code",
      "source": [
        "print(len(train.columns))\n",
        "print(len(dev.columns))\n",
        "print(len(test.columns))"
      ],
      "metadata": {
        "colab": {
          "base_uri": "https://localhost:8080/"
        },
        "id": "a2oHezgjhV57",
        "outputId": "8d61356f-1044-40a2-c4b0-0b90700a6336"
      },
      "execution_count": null,
      "outputs": [
        {
          "output_type": "stream",
          "name": "stdout",
          "text": [
            "6\n",
            "6\n",
            "6\n"
          ]
        }
      ]
    },
    {
      "cell_type": "code",
      "source": [
        "def processAspect(x):\n",
        "  x = x.replace('#', ' ')\n",
        "  x = x.replace('&', ' ')\n",
        "  return ''.join(x)"
      ],
      "metadata": {
        "id": "wTuOmlH1hkJ1"
      },
      "execution_count": null,
      "outputs": []
    },
    {
      "cell_type": "code",
      "source": [
        "train"
      ],
      "metadata": {
        "colab": {
          "base_uri": "https://localhost:8080/",
          "height": 606
        },
        "id": "CkQt0Oq7hZ66",
        "outputId": "a3b914bf-b428-495a-aede-4230dfaebf3a"
      },
      "execution_count": null,
      "outputs": [
        {
          "output_type": "execute_result",
          "data": {
            "text/plain": [
              "          id                                            content  \\\n",
              "0        ﻿#1  Rộng rãi khách sạn mới nhưng rất vắng. Các dịc...   \n",
              "1        ﻿#1  Rộng rãi khách sạn mới nhưng rất vắng. Các dịc...   \n",
              "2         #2  Địa điểm thuận tiện trong vòng bán kính 1 giá ...   \n",
              "3         #3                            Phục vụ view đẹp vị trí   \n",
              "4         #3                            Phục vụ view đẹp vị trí   \n",
              "...      ...                                                ...   \n",
              "13944  #2999  Đầu tiên về ưu điểm Phòng sạch sẽ nội thất mới...   \n",
              "13945  #3000  Tôi ở đây 1 đêm và thấy khách sạn khá đẹp lạ v...   \n",
              "13946  #3000  Tôi ở đây 1 đêm và thấy khách sạn khá đẹp lạ v...   \n",
              "13947  #3000  Tôi ở đây 1 đêm và thấy khách sạn khá đẹp lạ v...   \n",
              "13948  #3000  Tôi ở đây 1 đêm và thấy khách sạn khá đẹp lạ v...   \n",
              "\n",
              "                      Aspect  positive  negative  neutral  \n",
              "0      HOTEL#DESIGN&FEATURES         1         0        0  \n",
              "1              HOTEL#GENERAL         0         1        0  \n",
              "2           LOCATION#GENERAL         1         0        0  \n",
              "3            SERVICE#GENERAL         1         0        0  \n",
              "4              HOTEL#GENERAL         1         0        0  \n",
              "...                      ...       ...       ...      ...  \n",
              "13944          HOTEL#GENERAL         0         1        0  \n",
              "13945  HOTEL#DESIGN&FEATURES         1         0        0  \n",
              "13946          HOTEL#COMFORT         1         0        0  \n",
              "13947        SERVICE#GENERAL         1         0        0  \n",
              "13948          HOTEL#GENERAL         1         0        0  \n",
              "\n",
              "[13949 rows x 6 columns]"
            ],
            "text/html": [
              "\n",
              "  <div id=\"df-1a0919c0-c2c0-4408-97e1-3044138fcce9\">\n",
              "    <div class=\"colab-df-container\">\n",
              "      <div>\n",
              "<style scoped>\n",
              "    .dataframe tbody tr th:only-of-type {\n",
              "        vertical-align: middle;\n",
              "    }\n",
              "\n",
              "    .dataframe tbody tr th {\n",
              "        vertical-align: top;\n",
              "    }\n",
              "\n",
              "    .dataframe thead th {\n",
              "        text-align: right;\n",
              "    }\n",
              "</style>\n",
              "<table border=\"1\" class=\"dataframe\">\n",
              "  <thead>\n",
              "    <tr style=\"text-align: right;\">\n",
              "      <th></th>\n",
              "      <th>id</th>\n",
              "      <th>content</th>\n",
              "      <th>Aspect</th>\n",
              "      <th>positive</th>\n",
              "      <th>negative</th>\n",
              "      <th>neutral</th>\n",
              "    </tr>\n",
              "  </thead>\n",
              "  <tbody>\n",
              "    <tr>\n",
              "      <th>0</th>\n",
              "      <td>﻿#1</td>\n",
              "      <td>Rộng rãi khách sạn mới nhưng rất vắng. Các dịc...</td>\n",
              "      <td>HOTEL#DESIGN&amp;FEATURES</td>\n",
              "      <td>1</td>\n",
              "      <td>0</td>\n",
              "      <td>0</td>\n",
              "    </tr>\n",
              "    <tr>\n",
              "      <th>1</th>\n",
              "      <td>﻿#1</td>\n",
              "      <td>Rộng rãi khách sạn mới nhưng rất vắng. Các dịc...</td>\n",
              "      <td>HOTEL#GENERAL</td>\n",
              "      <td>0</td>\n",
              "      <td>1</td>\n",
              "      <td>0</td>\n",
              "    </tr>\n",
              "    <tr>\n",
              "      <th>2</th>\n",
              "      <td>#2</td>\n",
              "      <td>Địa điểm thuận tiện trong vòng bán kính 1 giá ...</td>\n",
              "      <td>LOCATION#GENERAL</td>\n",
              "      <td>1</td>\n",
              "      <td>0</td>\n",
              "      <td>0</td>\n",
              "    </tr>\n",
              "    <tr>\n",
              "      <th>3</th>\n",
              "      <td>#3</td>\n",
              "      <td>Phục vụ view đẹp vị trí</td>\n",
              "      <td>SERVICE#GENERAL</td>\n",
              "      <td>1</td>\n",
              "      <td>0</td>\n",
              "      <td>0</td>\n",
              "    </tr>\n",
              "    <tr>\n",
              "      <th>4</th>\n",
              "      <td>#3</td>\n",
              "      <td>Phục vụ view đẹp vị trí</td>\n",
              "      <td>HOTEL#GENERAL</td>\n",
              "      <td>1</td>\n",
              "      <td>0</td>\n",
              "      <td>0</td>\n",
              "    </tr>\n",
              "    <tr>\n",
              "      <th>...</th>\n",
              "      <td>...</td>\n",
              "      <td>...</td>\n",
              "      <td>...</td>\n",
              "      <td>...</td>\n",
              "      <td>...</td>\n",
              "      <td>...</td>\n",
              "    </tr>\n",
              "    <tr>\n",
              "      <th>13944</th>\n",
              "      <td>#2999</td>\n",
              "      <td>Đầu tiên về ưu điểm Phòng sạch sẽ nội thất mới...</td>\n",
              "      <td>HOTEL#GENERAL</td>\n",
              "      <td>0</td>\n",
              "      <td>1</td>\n",
              "      <td>0</td>\n",
              "    </tr>\n",
              "    <tr>\n",
              "      <th>13945</th>\n",
              "      <td>#3000</td>\n",
              "      <td>Tôi ở đây 1 đêm và thấy khách sạn khá đẹp lạ v...</td>\n",
              "      <td>HOTEL#DESIGN&amp;FEATURES</td>\n",
              "      <td>1</td>\n",
              "      <td>0</td>\n",
              "      <td>0</td>\n",
              "    </tr>\n",
              "    <tr>\n",
              "      <th>13946</th>\n",
              "      <td>#3000</td>\n",
              "      <td>Tôi ở đây 1 đêm và thấy khách sạn khá đẹp lạ v...</td>\n",
              "      <td>HOTEL#COMFORT</td>\n",
              "      <td>1</td>\n",
              "      <td>0</td>\n",
              "      <td>0</td>\n",
              "    </tr>\n",
              "    <tr>\n",
              "      <th>13947</th>\n",
              "      <td>#3000</td>\n",
              "      <td>Tôi ở đây 1 đêm và thấy khách sạn khá đẹp lạ v...</td>\n",
              "      <td>SERVICE#GENERAL</td>\n",
              "      <td>1</td>\n",
              "      <td>0</td>\n",
              "      <td>0</td>\n",
              "    </tr>\n",
              "    <tr>\n",
              "      <th>13948</th>\n",
              "      <td>#3000</td>\n",
              "      <td>Tôi ở đây 1 đêm và thấy khách sạn khá đẹp lạ v...</td>\n",
              "      <td>HOTEL#GENERAL</td>\n",
              "      <td>1</td>\n",
              "      <td>0</td>\n",
              "      <td>0</td>\n",
              "    </tr>\n",
              "  </tbody>\n",
              "</table>\n",
              "<p>13949 rows × 6 columns</p>\n",
              "</div>\n",
              "      <button class=\"colab-df-convert\" onclick=\"convertToInteractive('df-1a0919c0-c2c0-4408-97e1-3044138fcce9')\"\n",
              "              title=\"Convert this dataframe to an interactive table.\"\n",
              "              style=\"display:none;\">\n",
              "        \n",
              "  <svg xmlns=\"http://www.w3.org/2000/svg\" height=\"24px\"viewBox=\"0 0 24 24\"\n",
              "       width=\"24px\">\n",
              "    <path d=\"M0 0h24v24H0V0z\" fill=\"none\"/>\n",
              "    <path d=\"M18.56 5.44l.94 2.06.94-2.06 2.06-.94-2.06-.94-.94-2.06-.94 2.06-2.06.94zm-11 1L8.5 8.5l.94-2.06 2.06-.94-2.06-.94L8.5 2.5l-.94 2.06-2.06.94zm10 10l.94 2.06.94-2.06 2.06-.94-2.06-.94-.94-2.06-.94 2.06-2.06.94z\"/><path d=\"M17.41 7.96l-1.37-1.37c-.4-.4-.92-.59-1.43-.59-.52 0-1.04.2-1.43.59L10.3 9.45l-7.72 7.72c-.78.78-.78 2.05 0 2.83L4 21.41c.39.39.9.59 1.41.59.51 0 1.02-.2 1.41-.59l7.78-7.78 2.81-2.81c.8-.78.8-2.07 0-2.86zM5.41 20L4 18.59l7.72-7.72 1.47 1.35L5.41 20z\"/>\n",
              "  </svg>\n",
              "      </button>\n",
              "      \n",
              "  <style>\n",
              "    .colab-df-container {\n",
              "      display:flex;\n",
              "      flex-wrap:wrap;\n",
              "      gap: 12px;\n",
              "    }\n",
              "\n",
              "    .colab-df-convert {\n",
              "      background-color: #E8F0FE;\n",
              "      border: none;\n",
              "      border-radius: 50%;\n",
              "      cursor: pointer;\n",
              "      display: none;\n",
              "      fill: #1967D2;\n",
              "      height: 32px;\n",
              "      padding: 0 0 0 0;\n",
              "      width: 32px;\n",
              "    }\n",
              "\n",
              "    .colab-df-convert:hover {\n",
              "      background-color: #E2EBFA;\n",
              "      box-shadow: 0px 1px 2px rgba(60, 64, 67, 0.3), 0px 1px 3px 1px rgba(60, 64, 67, 0.15);\n",
              "      fill: #174EA6;\n",
              "    }\n",
              "\n",
              "    [theme=dark] .colab-df-convert {\n",
              "      background-color: #3B4455;\n",
              "      fill: #D2E3FC;\n",
              "    }\n",
              "\n",
              "    [theme=dark] .colab-df-convert:hover {\n",
              "      background-color: #434B5C;\n",
              "      box-shadow: 0px 1px 3px 1px rgba(0, 0, 0, 0.15);\n",
              "      filter: drop-shadow(0px 1px 2px rgba(0, 0, 0, 0.3));\n",
              "      fill: #FFFFFF;\n",
              "    }\n",
              "  </style>\n",
              "\n",
              "      <script>\n",
              "        const buttonEl =\n",
              "          document.querySelector('#df-1a0919c0-c2c0-4408-97e1-3044138fcce9 button.colab-df-convert');\n",
              "        buttonEl.style.display =\n",
              "          google.colab.kernel.accessAllowed ? 'block' : 'none';\n",
              "\n",
              "        async function convertToInteractive(key) {\n",
              "          const element = document.querySelector('#df-1a0919c0-c2c0-4408-97e1-3044138fcce9');\n",
              "          const dataTable =\n",
              "            await google.colab.kernel.invokeFunction('convertToInteractive',\n",
              "                                                     [key], {});\n",
              "          if (!dataTable) return;\n",
              "\n",
              "          const docLinkHtml = 'Like what you see? Visit the ' +\n",
              "            '<a target=\"_blank\" href=https://colab.research.google.com/notebooks/data_table.ipynb>data table notebook</a>'\n",
              "            + ' to learn more about interactive tables.';\n",
              "          element.innerHTML = '';\n",
              "          dataTable['output_type'] = 'display_data';\n",
              "          await google.colab.output.renderOutput(dataTable, element);\n",
              "          const docLink = document.createElement('div');\n",
              "          docLink.innerHTML = docLinkHtml;\n",
              "          element.appendChild(docLink);\n",
              "        }\n",
              "      </script>\n",
              "    </div>\n",
              "  </div>\n",
              "  "
            ]
          },
          "metadata": {},
          "execution_count": 9
        }
      ]
    },
    {
      "cell_type": "code",
      "source": [
        "train.columns"
      ],
      "metadata": {
        "colab": {
          "base_uri": "https://localhost:8080/"
        },
        "id": "pNzJUrd2hfV7",
        "outputId": "8de2c9c7-1177-4176-af74-fd73ab234be2"
      },
      "execution_count": null,
      "outputs": [
        {
          "output_type": "execute_result",
          "data": {
            "text/plain": [
              "Index(['id', 'content', 'Aspect', 'positive', 'negative', 'neutral'], dtype='object')"
            ]
          },
          "metadata": {},
          "execution_count": 10
        }
      ]
    },
    {
      "cell_type": "code",
      "source": [
        "target_list = ['positive', 'negative', 'neutral']"
      ],
      "metadata": {
        "id": "8qV5ma3jhlmz"
      },
      "execution_count": null,
      "outputs": []
    },
    {
      "cell_type": "code",
      "source": [
        "MAX_LEN = 256\n",
        "TRAIN_BATCH_SIZE = 16\n",
        "VALID_BATCH_SIZE = 16\n",
        "EPOCHS = 10\n",
        "LEARNING_RATE = 1e-05\n",
        "NUM_LABELS = len(target_list)"
      ],
      "metadata": {
        "id": "D7yIxup3htMj"
      },
      "execution_count": null,
      "outputs": []
    },
    {
      "cell_type": "code",
      "source": [
        "from transformers import BertTokenizer, BertModel\n",
        "from transformers import AutoTokenizer, AutoModel"
      ],
      "metadata": {
        "id": "hEWlEixuhvUC"
      },
      "execution_count": null,
      "outputs": []
    },
    {
      "cell_type": "code",
      "source": [
        "tokenizer = BertTokenizer.from_pretrained('bert-base-multilingual-cased')\n",
        "# tokenizer = AutoTokenizer.from_pretrained(\"vinai/phobert-base\")"
      ],
      "metadata": {
        "id": "tdva0Ivrhyd6"
      },
      "execution_count": null,
      "outputs": []
    },
    {
      "cell_type": "code",
      "source": [
        "# text_a = \"Quán ăn này rất ngon, sẽ quay lại ủng hộ\"\n",
        "# text_b = 'FOOD STYLE OPTIONS'\n",
        "# encoding = tokenizer.encode_plus(\n",
        "#     text_a,\n",
        "#     text_b,\n",
        "#     add_special_tokens = True,\n",
        "#     max_length=MAX_LEN,\n",
        "#     padding = 'max_length',\n",
        "#     truncation='only_first',\n",
        "#     return_tensors='pt'\n",
        "# )\n",
        "# encoding"
      ],
      "metadata": {
        "id": "bH3B_aK6hzGK"
      },
      "execution_count": null,
      "outputs": []
    },
    {
      "cell_type": "code",
      "source": [
        "class CustomDataset(torch.utils.data.Dataset):\n",
        "  def __init__(self, df, tokenizer, max_len):\n",
        "    self.df = df\n",
        "    self.tokenizer = tokenizer\n",
        "    self.max_len = max_len\n",
        "    self.text_a = self.df['content']\n",
        "    self.text_b = self.df['Aspect']\n",
        "    self.targets = self.df[target_list].values\n",
        "\n",
        "  def __len__(self):\n",
        "    return len(self.text_a)\n",
        "    \n",
        "  def __getitem__(self, index):\n",
        "    text_a = str(self.text_a[index])\n",
        "    text_a = \" \".join(text_a.split())\n",
        "    text_b = str(self.text_b[index])\n",
        "    text_b = processAspect(text_b)\n",
        "    text_b = \" \".join(text_b.split())\n",
        "\n",
        "    inputs = self.tokenizer.encode_plus(\n",
        "        text_a,\n",
        "        text_b,\n",
        "        add_special_tokens = True,\n",
        "        max_length = self.max_len,\n",
        "        padding = 'max_length',\n",
        "        return_token_type_ids = True,\n",
        "        truncation='longest_first',\n",
        "        return_attention_mask = True,\n",
        "        return_tensors = 'pt'\n",
        "    )\n",
        "    return {\n",
        "        'input_ids':inputs['input_ids'].flatten(),\n",
        "        'attention_mask': inputs['attention_mask'].flatten(),\n",
        "        'token_type_ids': inputs['token_type_ids'].flatten(),\n",
        "        'targets': torch.FloatTensor(self.targets[index])\n",
        "    }"
      ],
      "metadata": {
        "id": "er8BD65-h7XS"
      },
      "execution_count": null,
      "outputs": []
    },
    {
      "cell_type": "code",
      "source": [
        "train_dataset = CustomDataset(train, tokenizer, MAX_LEN)\n",
        "val_dataset = CustomDataset(dev, tokenizer, MAX_LEN)"
      ],
      "metadata": {
        "id": "Hbm5Au3Nh8Ii"
      },
      "execution_count": null,
      "outputs": []
    },
    {
      "cell_type": "code",
      "source": [
        "train_dataset.targets"
      ],
      "metadata": {
        "colab": {
          "base_uri": "https://localhost:8080/"
        },
        "id": "oC0Q_IpEh9wz",
        "outputId": "f7cc0308-aae8-42e2-beee-2301f061971c"
      },
      "execution_count": null,
      "outputs": [
        {
          "output_type": "execute_result",
          "data": {
            "text/plain": [
              "array([[1, 0, 0],\n",
              "       [0, 1, 0],\n",
              "       [1, 0, 0],\n",
              "       ...,\n",
              "       [1, 0, 0],\n",
              "       [1, 0, 0],\n",
              "       [1, 0, 0]])"
            ]
          },
          "metadata": {},
          "execution_count": 19
        }
      ]
    },
    {
      "cell_type": "code",
      "source": [
        "train_data_loader = torch.utils.data.DataLoader(\n",
        "    train_dataset,\n",
        "    shuffle = True,\n",
        "    batch_size = TRAIN_BATCH_SIZE,\n",
        "    num_workers = 0\n",
        ")\n",
        "val_data_loader = torch.utils.data.DataLoader(\n",
        "    val_dataset,\n",
        "    shuffle = False,\n",
        "    batch_size = VALID_BATCH_SIZE,\n",
        "    num_workers = 0\n",
        ")"
      ],
      "metadata": {
        "id": "vB8buOw8h_4i"
      },
      "execution_count": null,
      "outputs": []
    },
    {
      "cell_type": "code",
      "source": [
        "device = torch.device('cuda') if torch.cuda.is_available() else torch.device('cpu')\n",
        "print(device)"
      ],
      "metadata": {
        "colab": {
          "base_uri": "https://localhost:8080/"
        },
        "id": "yMIClJgtiBW6",
        "outputId": "2ce0b97d-ec9e-474b-fea0-70c9f8b90afe"
      },
      "execution_count": null,
      "outputs": [
        {
          "output_type": "stream",
          "name": "stdout",
          "text": [
            "cuda\n"
          ]
        }
      ]
    },
    {
      "cell_type": "code",
      "source": [
        "def load_ckp(checkpoint_fpath, model, optimizer):\n",
        "  checkpoint = torch.load(checkpoint_fpath)\n",
        "  model.load_state_dict(checkpoint['state_dict'])\n",
        "  optimizer.load_state_dict(checkpoint['optimizer'])\n",
        "  valid_loss_min = checkpoint['valid_loss_min']\n",
        "  return model, optimizer, checkpoint['epoch'], valid_loss_min.item()\n",
        "\n",
        "def save_ckp(state, is_best, checkpoint_path, best_model_path):\n",
        "  f_path = checkpoint_path\n",
        "  torch.save(state, f_path)\n",
        "  if is_best:\n",
        "    best_fpath = best_model_path\n",
        "    shutil.copyfile(f_path, best_fpath)"
      ],
      "metadata": {
        "id": "_2s9aviGiDBS"
      },
      "execution_count": null,
      "outputs": []
    },
    {
      "cell_type": "code",
      "source": [
        "class BERTClass(nn.Module):\n",
        "  def __init__(self):\n",
        "    super(BERTClass, self).__init__()\n",
        "    self.bert_model = BertModel.from_pretrained('bert-base-multilingual-cased', return_dict=True)\n",
        "    # self.bert_model = AutoModel.from_pretrained('vinai/phobert-base', return_dict=True)\n",
        "\n",
        "    self.dropout = nn.Dropout(0.1)\n",
        "    self.linear = nn.Linear(768, NUM_LABELS) \n",
        "  def forward(self, input_ids, attention_mask, token_type_ids):\n",
        "    output = self.bert_model(input_ids, attention_mask, token_type_ids)\n",
        "    output_dropout = self.dropout(output.pooler_output)\n",
        "    output = self.linear(output_dropout)\n",
        "    return output"
      ],
      "metadata": {
        "id": "WmGtFInyiFEb"
      },
      "execution_count": null,
      "outputs": []
    },
    {
      "cell_type": "code",
      "source": [
        "model = BERTClass()\n",
        "model.to(device)"
      ],
      "metadata": {
        "id": "-jOR7PixiG9C"
      },
      "execution_count": null,
      "outputs": []
    },
    {
      "cell_type": "code",
      "source": [
        "def loss_fn(outputs, targets):\n",
        "  return nn.BCEWithLogitsLoss()(outputs, targets)\n",
        "\n",
        "optimizer = torch.optim.Adam(params = model.parameters(), lr = LEARNING_RATE)"
      ],
      "metadata": {
        "id": "RDJ9EvdOiMiK"
      },
      "execution_count": null,
      "outputs": []
    },
    {
      "cell_type": "code",
      "source": [
        "def train_model(\n",
        "    n_epochs,\n",
        "    training_loader,\n",
        "    validation_loader,\n",
        "    model,\n",
        "    optimizer,\n",
        "    checkpoint_path,\n",
        "    best_model_path\n",
        "):\n",
        "  valid_loss_min = np.Inf\n",
        "  for epoch in range(1, n_epochs + 1):\n",
        "    print('Epoch {}/{}'.format(epoch, n_epochs))\n",
        "    train_loss = 0\n",
        "    valid_loss = 0\n",
        "    model.train()\n",
        "    #training loop\n",
        "    for index, batch in enumerate(train_data_loader):\n",
        "      input_ids = batch['input_ids'].to(device, dtype = torch.long)\n",
        "      attention_mask = batch['attention_mask'].to(device, dtype = torch.long)\n",
        "      token_type_ids = batch['token_type_ids'].to(device, dtype = torch.long)\n",
        "      targets = batch['targets'].to(device, dtype = torch.float)\n",
        "      outputs = model(input_ids, attention_mask, token_type_ids)\n",
        "      optimizer.zero_grad()\n",
        "      loss = loss_fn( outputs, targets)\n",
        "      optimizer.zero_grad()\n",
        "      loss.backward()\n",
        "      optimizer.step()\n",
        "      train_loss = train_loss + (1/(index+1)*(loss.item()-train_loss))\n",
        "    #validation loop\n",
        "    model.eval()\n",
        "    with torch.no_grad():\n",
        "      for index, batch in enumerate(train_data_loader):\n",
        "        input_ids = batch['input_ids'].to(device, dtype = torch.long)\n",
        "        attention_mask = batch['attention_mask'].to(device, dtype = torch.long)\n",
        "        token_type_ids = batch['token_type_ids'].to(device, dtype = torch.long)\n",
        "        targets = batch['targets'].to(device, dtype = torch.float)\n",
        "        outputs = model(input_ids, attention_mask, token_type_ids)\n",
        "        loss = loss_fn(outputs, targets)\n",
        "        valid_loss = valid_loss + (1/(index+1)*(loss.item()-train_loss))\n",
        "    checkpoint = {\n",
        "        'epoch': epoch+1,\n",
        "        'valid_loss_min': valid_loss,\n",
        "        'state_dict': model.state_dict(),\n",
        "        'optimizer': optimizer.state_dict()\n",
        "    }\n",
        "    save_ckp(checkpoint, False, checkpoint_path, best_model_path)\n",
        "    print('Loss: {}, Val_Loss:{}'.format(train_loss, valid_loss))\n",
        "  return model"
      ],
      "metadata": {
        "id": "VR7Rv-zUiNP0"
      },
      "execution_count": null,
      "outputs": []
    },
    {
      "cell_type": "code",
      "source": [
        "import time"
      ],
      "metadata": {
        "id": "OUvYHgmxHo84"
      },
      "execution_count": null,
      "outputs": []
    },
    {
      "cell_type": "code",
      "source": [
        "start_time = time.time()\n",
        "trained_model = train_model(EPOCHS, train_data_loader,  val_data_loader, model, optimizer, \"/curr_ckpt\", \"/best.pt\" )\n",
        "elapsed_time_secs = time.time() - start_time\n",
        "elapsed_time_secs"
      ],
      "metadata": {
        "id": "NXZzXg9aiOmB"
      },
      "execution_count": null,
      "outputs": []
    },
    {
      "cell_type": "code",
      "source": [
        "torch.save(trained_model.state_dict(), '/content/drive/MyDrive/Đồ án tốt nghiệp/Save Pre-Train Model/HosCombine.pt')"
      ],
      "metadata": {
        "id": "v4YVGsZhkfnV"
      },
      "execution_count": null,
      "outputs": []
    },
    {
      "cell_type": "code",
      "source": [
        "# testing\n",
        "def get_predict(review, aspect):\n",
        "  text_a = review\n",
        "  text_b = processAspect(aspect)\n",
        "  encodings = tokenizer.encode_plus(\n",
        "      text_a,\n",
        "      text_b,\n",
        "      add_special_tokens=True,\n",
        "      max_length=MAX_LEN,\n",
        "      padding='max_length',\n",
        "      return_token_type_ids=True,\n",
        "      truncation=True,\n",
        "      return_attention_mask=True,\n",
        "      return_tensors='pt'\n",
        "  )\n",
        "  trained_model.eval()\n",
        "\n",
        "  with torch.no_grad():\n",
        "      input_ids = encodings['input_ids'].to(device, dtype=torch.long)\n",
        "      attention_mask = encodings['attention_mask'].to(device, dtype=torch.long)\n",
        "      token_type_ids = encodings['token_type_ids'].to(device, dtype=torch.long)\n",
        "      output = trained_model(input_ids, attention_mask, token_type_ids)\n",
        "      final_output = torch.sigmoid(output).cpu().detach().numpy().tolist()\n",
        "      # print(train.columns[1:].to_list()[int(np.argmax(final_output, axis=1))])\n",
        "      t = np.array(final_output)\n",
        "      # THRESHOLD = 0.4\n",
        "      # upper, lower = 1, 0\n",
        "\n",
        "      # final_out = np.where(t > THRESHOLD, upper, lower)\n",
        "  return t"
      ],
      "metadata": {
        "id": "vWhFzjpWiQW7"
      },
      "execution_count": null,
      "outputs": []
    },
    {
      "cell_type": "markdown",
      "source": [
        "Evaluate"
      ],
      "metadata": {
        "id": "4aIkRRl4HI6b"
      }
    },
    {
      "cell_type": "code",
      "source": [
        "dev_predicts = []\n",
        "for i in range(len(dev['content'].values)):\n",
        "  dev_predicts.append(get_predict(dev['content'][i], dev['Aspect'][i])[0])"
      ],
      "metadata": {
        "id": "R2zomEC1lPwc"
      },
      "execution_count": null,
      "outputs": []
    },
    {
      "cell_type": "code",
      "source": [
        "test_predicts = []\n",
        "for i in range(len(test['content'].values)):\n",
        "  test_predicts.append(get_predict(test['content'][i], test['Aspect'][i])[0])"
      ],
      "metadata": {
        "id": "P0kyFaemlwG0"
      },
      "execution_count": null,
      "outputs": []
    },
    {
      "cell_type": "code",
      "source": [
        "THRESHOLD = 0.4\n",
        "upper, lower = 1, 0"
      ],
      "metadata": {
        "id": "sQxpAnY8A_9E"
      },
      "execution_count": null,
      "outputs": []
    },
    {
      "cell_type": "code",
      "source": [
        "dev_predicts = [np.where(dev_predicts[i] > THRESHOLD, upper, lower).tolist() for i in range(len(dev_predicts))]\n",
        "test_predicts = [np.where(test_predicts[i] > THRESHOLD, upper, lower).tolist() for i in range(len(test_predicts))]"
      ],
      "metadata": {
        "id": "LyfYtaGwCR7C"
      },
      "execution_count": null,
      "outputs": []
    },
    {
      "cell_type": "code",
      "source": [
        "from sklearn.metrics import classification_report, multilabel_confusion_matrix"
      ],
      "metadata": {
        "id": "CvKqrSTZiW76"
      },
      "execution_count": null,
      "outputs": []
    },
    {
      "cell_type": "code",
      "source": [
        "print(classification_report(dev[target_list].values, dev_predicts, target_names = target_list))"
      ],
      "metadata": {
        "id": "woXAZhVjiYxi"
      },
      "execution_count": null,
      "outputs": []
    },
    {
      "cell_type": "code",
      "source": [
        "print(classification_report(test[target_list].values, test_predicts, target_names = target_list))"
      ],
      "metadata": {
        "id": "zr1YvkdIia4i",
        "colab": {
          "base_uri": "https://localhost:8080/"
        },
        "outputId": "f0d9bfcf-7be2-4337-9d7f-af9d7841d114"
      },
      "execution_count": null,
      "outputs": [
        {
          "output_type": "stream",
          "name": "stdout",
          "text": [
            "              precision    recall  f1-score   support\n",
            "\n",
            "    positive       0.93      0.93      0.93      1806\n",
            "    negative       0.77      0.89      0.82       645\n",
            "     neutral       0.46      0.31      0.37       133\n",
            "\n",
            "   micro avg       0.87      0.88      0.88      2584\n",
            "   macro avg       0.72      0.71      0.71      2584\n",
            "weighted avg       0.87      0.88      0.87      2584\n",
            " samples avg       0.88      0.88      0.88      2584\n",
            "\n"
          ]
        },
        {
          "output_type": "stream",
          "name": "stderr",
          "text": [
            "/usr/local/lib/python3.7/dist-packages/sklearn/metrics/_classification.py:1318: UndefinedMetricWarning: Precision and F-score are ill-defined and being set to 0.0 in samples with no predicted labels. Use `zero_division` parameter to control this behavior.\n",
            "  _warn_prf(average, modifier, msg_start, len(result))\n"
          ]
        }
      ]
    },
    {
      "cell_type": "code",
      "source": [
        ""
      ],
      "metadata": {
        "id": "_ZVJSC3eABCS"
      },
      "execution_count": null,
      "outputs": []
    }
  ]
}